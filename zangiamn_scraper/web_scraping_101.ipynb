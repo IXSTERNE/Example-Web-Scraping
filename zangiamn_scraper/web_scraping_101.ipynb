{
 "cells": [
  {
   "attachments": {},
   "cell_type": "markdown",
   "metadata": {},
   "source": [
    "#Libraries"
   ]
  },
  {
   "cell_type": "code",
   "execution_count": 2,
   "metadata": {},
   "outputs": [],
   "source": [
    "import requests\n",
    "from bs4 import BeautifulSoup\n",
    "import pandas as pd"
   ]
  },
  {
   "cell_type": "code",
   "execution_count": 6,
   "metadata": {},
   "outputs": [],
   "source": [
    "#Linking the target website\n",
    "\n",
    "url = \"https://www.zangia.mn/job/list/pg.1\""
   ]
  },
  {
   "cell_type": "code",
   "execution_count": 7,
   "metadata": {},
   "outputs": [],
   "source": [
    "#Sending request\n",
    "\n",
    "response = requests.get(url) "
   ]
  },
  {
   "cell_type": "code",
   "execution_count": 8,
   "metadata": {},
   "outputs": [],
   "source": [
    "#Saving the content in response\n",
    "\n",
    "response = response.content"
   ]
  },
  {
   "cell_type": "code",
   "execution_count": 10,
   "metadata": {},
   "outputs": [],
   "source": [
    "#Parse the HTML code with BeautifulSoup \n",
    "\n",
    "soup = BeautifulSoup(response, 'html.parser')\n",
    "\n",
    "#Now soup is the whole html document\n",
    "#You can check the result by print(soup)"
   ]
  },
  {
   "cell_type": "code",
   "execution_count": 15,
   "metadata": {},
   "outputs": [],
   "source": [
    "#Finding the first div element classified as \"list\" from \"soup\"\n",
    "#Save the result in \"list\"\n",
    "\n",
    "list = soup.find('div', class_='list')\n",
    "\n",
    "#Check print(list)"
   ]
  },
  {
   "cell_type": "code",
   "execution_count": 18,
   "metadata": {},
   "outputs": [],
   "source": [
    "#Finding all the content with div element classified as \"ad\" from \"list\"\n",
    "#Save the result in \"job_lists\"\n",
    "\n",
    "job_lists = list.find_all('div', class_='ad')\n",
    "\n",
    "#Check print(job_lists)"
   ]
  },
  {
   "attachments": {},
   "cell_type": "markdown",
   "metadata": {},
   "source": [
    "#Iteration "
   ]
  },
  {
   "cell_type": "code",
   "execution_count": null,
   "metadata": {},
   "outputs": [],
   "source": [
    "#Break down job_lists as job\n",
    "#Finding job title by looking text from the <b> tag\n",
    "#Save it in job_title\n",
    "\n",
    "#Check print(job_title)\n",
    "\n",
    "#Finding salary by looking text from span tags classified as 'fsal'\n",
    "\n",
    "for job in job_lists:\n",
    "    job_title = job.find('b').text\n",
    "    salary = job.find('span', class_='fsal').text\n",
    "\n",
    "#Check both print(job_title) and print(salary)"
   ]
  },
  {
   "attachments": {},
   "cell_type": "markdown",
   "metadata": {},
   "source": [
    "#Iteration 2\n",
    "\n",
    "1. \"jobs = []\"   \n",
    "    Will take the whole for loop as an array.\n",
    "2. for i in range(1, 192); \n",
    "    Take \"i\" as the incrementation variable, loop through the process until the page turns to 192.\n",
    "3. url = f\"https://www.zangia.mn/job/list/pg.{i}\"\n",
    "    Where the page number was changed to the variable \"i\"\n",
    "4. jobs.append([job_title, salary])\n",
    "    Append the column job_title, salary to \"jobs = []\""
   ]
  },
  {
   "cell_type": "code",
   "execution_count": 3,
   "metadata": {},
   "outputs": [],
   "source": [
    "jobs = []\n",
    "for i in range(1, 192):\n",
    "    url = f\"https://www.zangia.mn/job/list/pg.{i}\"\n",
    "    response = requests.get(url)\n",
    "    response = response.content\n",
    "    soup = BeautifulSoup(response, 'html.parser')\n",
    "\n",
    "    list = soup.find('div', class_='list')\n",
    "    job_lists = list.find_all('div', class_='ad')\n",
    "\n",
    "\n",
    "    \n",
    "\n",
    "    for job in job_lists:\n",
    "        job_title = job.find('b').text\n",
    "        salary = job.find('span', class_='fsal').text\n",
    "        jobs.append([job_title, salary])\n"
   ]
  },
  {
   "cell_type": "code",
   "execution_count": 79,
   "metadata": {},
   "outputs": [],
   "source": [
    "#Take 'job_title' and 'salary' as columns for \"jobs\" in the dataframe\n",
    "\n",
    "df = pd.DataFrame(jobs, columns=['job_title', 'salary'])"
   ]
  },
  {
   "cell_type": "code",
   "execution_count": 80,
   "metadata": {},
   "outputs": [],
   "source": [
    "#Save the dataset in 'jobs.csv'\n",
    "\n",
    "df.to_csv('jobs.csv')"
   ]
  }
 ],
 "metadata": {
  "kernelspec": {
   "display_name": "Python 3 (ipykernel)",
   "language": "python",
   "name": "python3"
  },
  "language_info": {
   "codemirror_mode": {
    "name": "ipython",
    "version": 3
   },
   "file_extension": ".py",
   "mimetype": "text/x-python",
   "name": "python",
   "nbconvert_exporter": "python",
   "pygments_lexer": "ipython3",
   "version": "3.10.9"
  }
 },
 "nbformat": 4,
 "nbformat_minor": 2
}
